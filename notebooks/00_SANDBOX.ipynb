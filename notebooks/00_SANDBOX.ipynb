{
 "cells": [
  {
   "cell_type": "code",
   "execution_count": 231,
   "id": "d1989f1f-c876-45d2-842f-096d503dc3c8",
   "metadata": {
    "tags": []
   },
   "outputs": [],
   "source": [
    "import pandas as pd\n",
    "import numpy as np\n",
    "import matplotlib.pyplot as plt\n",
    "import seaborn as sns\n",
    "from scipy.stats import f_oneway, kruskal, shapiro, ttest_ind\n",
    "from itertools import combinations\n",
    "\n",
    "import time\n",
    "\n",
    "# Configuración General\n",
    "plt.style.use('fivethirtyeight')\n",
    "plt.rcParams.update({'font.size': 8})"
   ]
  },
  {
   "cell_type": "code",
   "execution_count": 95,
   "id": "1391cd1d-ef1f-4f4c-a4b4-ecc9faad2c28",
   "metadata": {
    "tags": []
   },
   "outputs": [
    {
     "name": "stderr",
     "output_type": "stream",
     "text": [
      "/var/folders/q4/hqn7rgnd2776w9b_lc4r0vlr0000gn/T/ipykernel_3468/3157898594.py:1: DtypeWarning: Columns (1,6) have mixed types. Specify dtype option on import or set low_memory=False.\n",
      "  df = pd.read_csv('../data/dataset_SCL.csv')\n"
     ]
    }
   ],
   "source": [
    "df = pd.read_csv('../data/dataset_SCL.csv')"
   ]
  },
  {
   "cell_type": "code",
   "execution_count": 96,
   "id": "0bdd8b8c-e13f-4ea2-81cb-d97bb585a8ac",
   "metadata": {
    "tags": []
   },
   "outputs": [
    {
     "data": {
      "text/html": [
       "<div>\n",
       "<style scoped>\n",
       "    .dataframe tbody tr th:only-of-type {\n",
       "        vertical-align: middle;\n",
       "    }\n",
       "\n",
       "    .dataframe tbody tr th {\n",
       "        vertical-align: top;\n",
       "    }\n",
       "\n",
       "    .dataframe thead th {\n",
       "        text-align: right;\n",
       "    }\n",
       "</style>\n",
       "<table border=\"1\" class=\"dataframe\">\n",
       "  <thead>\n",
       "    <tr style=\"text-align: right;\">\n",
       "      <th></th>\n",
       "      <th>Fecha-I</th>\n",
       "      <th>Vlo-I</th>\n",
       "      <th>Ori-I</th>\n",
       "      <th>Des-I</th>\n",
       "      <th>Emp-I</th>\n",
       "      <th>Fecha-O</th>\n",
       "      <th>Vlo-O</th>\n",
       "      <th>Ori-O</th>\n",
       "      <th>Des-O</th>\n",
       "      <th>Emp-O</th>\n",
       "      <th>DIA</th>\n",
       "      <th>MES</th>\n",
       "      <th>AÑO</th>\n",
       "      <th>DIANOM</th>\n",
       "      <th>TIPOVUELO</th>\n",
       "      <th>OPERA</th>\n",
       "      <th>SIGLAORI</th>\n",
       "      <th>SIGLADES</th>\n",
       "    </tr>\n",
       "  </thead>\n",
       "  <tbody>\n",
       "    <tr>\n",
       "      <th>0</th>\n",
       "      <td>2017-01-01 23:30:00</td>\n",
       "      <td>226</td>\n",
       "      <td>SCEL</td>\n",
       "      <td>KMIA</td>\n",
       "      <td>AAL</td>\n",
       "      <td>2017-01-01 23:33:00</td>\n",
       "      <td>226</td>\n",
       "      <td>SCEL</td>\n",
       "      <td>KMIA</td>\n",
       "      <td>AAL</td>\n",
       "      <td>1</td>\n",
       "      <td>1</td>\n",
       "      <td>2017</td>\n",
       "      <td>Domingo</td>\n",
       "      <td>I</td>\n",
       "      <td>American Airlines</td>\n",
       "      <td>Santiago</td>\n",
       "      <td>Miami</td>\n",
       "    </tr>\n",
       "    <tr>\n",
       "      <th>1</th>\n",
       "      <td>2017-01-02 23:30:00</td>\n",
       "      <td>226</td>\n",
       "      <td>SCEL</td>\n",
       "      <td>KMIA</td>\n",
       "      <td>AAL</td>\n",
       "      <td>2017-01-02 23:39:00</td>\n",
       "      <td>226</td>\n",
       "      <td>SCEL</td>\n",
       "      <td>KMIA</td>\n",
       "      <td>AAL</td>\n",
       "      <td>2</td>\n",
       "      <td>1</td>\n",
       "      <td>2017</td>\n",
       "      <td>Lunes</td>\n",
       "      <td>I</td>\n",
       "      <td>American Airlines</td>\n",
       "      <td>Santiago</td>\n",
       "      <td>Miami</td>\n",
       "    </tr>\n",
       "    <tr>\n",
       "      <th>2</th>\n",
       "      <td>2017-01-03 23:30:00</td>\n",
       "      <td>226</td>\n",
       "      <td>SCEL</td>\n",
       "      <td>KMIA</td>\n",
       "      <td>AAL</td>\n",
       "      <td>2017-01-03 23:39:00</td>\n",
       "      <td>226</td>\n",
       "      <td>SCEL</td>\n",
       "      <td>KMIA</td>\n",
       "      <td>AAL</td>\n",
       "      <td>3</td>\n",
       "      <td>1</td>\n",
       "      <td>2017</td>\n",
       "      <td>Martes</td>\n",
       "      <td>I</td>\n",
       "      <td>American Airlines</td>\n",
       "      <td>Santiago</td>\n",
       "      <td>Miami</td>\n",
       "    </tr>\n",
       "    <tr>\n",
       "      <th>3</th>\n",
       "      <td>2017-01-04 23:30:00</td>\n",
       "      <td>226</td>\n",
       "      <td>SCEL</td>\n",
       "      <td>KMIA</td>\n",
       "      <td>AAL</td>\n",
       "      <td>2017-01-04 23:33:00</td>\n",
       "      <td>226</td>\n",
       "      <td>SCEL</td>\n",
       "      <td>KMIA</td>\n",
       "      <td>AAL</td>\n",
       "      <td>4</td>\n",
       "      <td>1</td>\n",
       "      <td>2017</td>\n",
       "      <td>Miercoles</td>\n",
       "      <td>I</td>\n",
       "      <td>American Airlines</td>\n",
       "      <td>Santiago</td>\n",
       "      <td>Miami</td>\n",
       "    </tr>\n",
       "    <tr>\n",
       "      <th>4</th>\n",
       "      <td>2017-01-05 23:30:00</td>\n",
       "      <td>226</td>\n",
       "      <td>SCEL</td>\n",
       "      <td>KMIA</td>\n",
       "      <td>AAL</td>\n",
       "      <td>2017-01-05 23:28:00</td>\n",
       "      <td>226</td>\n",
       "      <td>SCEL</td>\n",
       "      <td>KMIA</td>\n",
       "      <td>AAL</td>\n",
       "      <td>5</td>\n",
       "      <td>1</td>\n",
       "      <td>2017</td>\n",
       "      <td>Jueves</td>\n",
       "      <td>I</td>\n",
       "      <td>American Airlines</td>\n",
       "      <td>Santiago</td>\n",
       "      <td>Miami</td>\n",
       "    </tr>\n",
       "  </tbody>\n",
       "</table>\n",
       "</div>"
      ],
      "text/plain": [
       "               Fecha-I Vlo-I Ori-I Des-I Emp-I              Fecha-O Vlo-O  \\\n",
       "0  2017-01-01 23:30:00   226  SCEL  KMIA   AAL  2017-01-01 23:33:00   226   \n",
       "1  2017-01-02 23:30:00   226  SCEL  KMIA   AAL  2017-01-02 23:39:00   226   \n",
       "2  2017-01-03 23:30:00   226  SCEL  KMIA   AAL  2017-01-03 23:39:00   226   \n",
       "3  2017-01-04 23:30:00   226  SCEL  KMIA   AAL  2017-01-04 23:33:00   226   \n",
       "4  2017-01-05 23:30:00   226  SCEL  KMIA   AAL  2017-01-05 23:28:00   226   \n",
       "\n",
       "  Ori-O Des-O Emp-O  DIA  MES   AÑO     DIANOM TIPOVUELO              OPERA  \\\n",
       "0  SCEL  KMIA   AAL    1    1  2017    Domingo         I  American Airlines   \n",
       "1  SCEL  KMIA   AAL    2    1  2017      Lunes         I  American Airlines   \n",
       "2  SCEL  KMIA   AAL    3    1  2017     Martes         I  American Airlines   \n",
       "3  SCEL  KMIA   AAL    4    1  2017  Miercoles         I  American Airlines   \n",
       "4  SCEL  KMIA   AAL    5    1  2017     Jueves         I  American Airlines   \n",
       "\n",
       "   SIGLAORI SIGLADES  \n",
       "0  Santiago    Miami  \n",
       "1  Santiago    Miami  \n",
       "2  Santiago    Miami  \n",
       "3  Santiago    Miami  \n",
       "4  Santiago    Miami  "
      ]
     },
     "execution_count": 96,
     "metadata": {},
     "output_type": "execute_result"
    }
   ],
   "source": [
    "df.head()"
   ]
  },
  {
   "cell_type": "markdown",
   "id": "a376fb05-7ae3-4fb0-b6ae-89ec137c8a79",
   "metadata": {},
   "source": []
  },
  {
   "cell_type": "markdown",
   "id": "876400e7-dab9-4136-8c80-16d101bb4e05",
   "metadata": {},
   "source": [
    "### Preprocesamiento"
   ]
  },
  {
   "cell_type": "code",
   "execution_count": 97,
   "id": "56ffa0a3-7151-429d-942e-138b8d7a25c8",
   "metadata": {
    "tags": []
   },
   "outputs": [
    {
     "name": "stdout",
     "output_type": "stream",
     "text": [
      "<class 'pandas.core.frame.DataFrame'>\n",
      "RangeIndex: 68206 entries, 0 to 68205\n",
      "Data columns (total 18 columns):\n",
      " #   Column     Non-Null Count  Dtype \n",
      "---  ------     --------------  ----- \n",
      " 0   Fecha-I    68206 non-null  object\n",
      " 1   Vlo-I      68206 non-null  object\n",
      " 2   Ori-I      68206 non-null  object\n",
      " 3   Des-I      68206 non-null  object\n",
      " 4   Emp-I      68206 non-null  object\n",
      " 5   Fecha-O    68206 non-null  object\n",
      " 6   Vlo-O      68205 non-null  object\n",
      " 7   Ori-O      68206 non-null  object\n",
      " 8   Des-O      68206 non-null  object\n",
      " 9   Emp-O      68206 non-null  object\n",
      " 10  DIA        68206 non-null  int64 \n",
      " 11  MES        68206 non-null  int64 \n",
      " 12  AÑO        68206 non-null  int64 \n",
      " 13  DIANOM     68206 non-null  object\n",
      " 14  TIPOVUELO  68206 non-null  object\n",
      " 15  OPERA      68206 non-null  object\n",
      " 16  SIGLAORI   68206 non-null  object\n",
      " 17  SIGLADES   68206 non-null  object\n",
      "dtypes: int64(3), object(15)\n",
      "memory usage: 9.4+ MB\n"
     ]
    }
   ],
   "source": [
    "df.info()"
   ]
  },
  {
   "cell_type": "code",
   "execution_count": 98,
   "id": "713ff2ad-42e9-472f-8c34-c77dede76c85",
   "metadata": {
    "tags": []
   },
   "outputs": [],
   "source": [
    "# Transformar variables de fecha de string a datetime\n",
    "df['Fecha-I'] = pd.to_datetime(df['Fecha-I'])\n",
    "df['Fecha-O'] = pd.to_datetime(df['Fecha-O'])\n",
    "\n",
    "# Agregar Variable Fecha\n",
    "df['fecha'] = df['Fecha-I'].dt.date"
   ]
  },
  {
   "cell_type": "code",
   "execution_count": 99,
   "id": "42285e9d-f2a7-4f2e-bc47-e83e66142747",
   "metadata": {
    "tags": []
   },
   "outputs": [
    {
     "data": {
      "text/html": [
       "<div>\n",
       "<style scoped>\n",
       "    .dataframe tbody tr th:only-of-type {\n",
       "        vertical-align: middle;\n",
       "    }\n",
       "\n",
       "    .dataframe tbody tr th {\n",
       "        vertical-align: top;\n",
       "    }\n",
       "\n",
       "    .dataframe thead th {\n",
       "        text-align: right;\n",
       "    }\n",
       "</style>\n",
       "<table border=\"1\" class=\"dataframe\">\n",
       "  <thead>\n",
       "    <tr style=\"text-align: right;\">\n",
       "      <th></th>\n",
       "      <th>Fecha-I</th>\n",
       "      <th>Vlo-I</th>\n",
       "      <th>Ori-I</th>\n",
       "      <th>Des-I</th>\n",
       "      <th>Emp-I</th>\n",
       "      <th>Fecha-O</th>\n",
       "      <th>Vlo-O</th>\n",
       "      <th>Ori-O</th>\n",
       "      <th>Des-O</th>\n",
       "      <th>Emp-O</th>\n",
       "      <th>DIA</th>\n",
       "      <th>MES</th>\n",
       "      <th>AÑO</th>\n",
       "      <th>DIANOM</th>\n",
       "      <th>TIPOVUELO</th>\n",
       "      <th>OPERA</th>\n",
       "      <th>SIGLAORI</th>\n",
       "      <th>SIGLADES</th>\n",
       "      <th>fecha</th>\n",
       "    </tr>\n",
       "  </thead>\n",
       "  <tbody>\n",
       "    <tr>\n",
       "      <th>68201</th>\n",
       "      <td>2017-12-22 14:55:00</td>\n",
       "      <td>400</td>\n",
       "      <td>SCEL</td>\n",
       "      <td>SPJC</td>\n",
       "      <td>JAT</td>\n",
       "      <td>2017-12-22 15:41:00</td>\n",
       "      <td>400.0</td>\n",
       "      <td>SCEL</td>\n",
       "      <td>SPJC</td>\n",
       "      <td>JAT</td>\n",
       "      <td>22</td>\n",
       "      <td>12</td>\n",
       "      <td>2017</td>\n",
       "      <td>Viernes</td>\n",
       "      <td>I</td>\n",
       "      <td>JetSmart SPA</td>\n",
       "      <td>Santiago</td>\n",
       "      <td>Lima</td>\n",
       "      <td>2017-12-22</td>\n",
       "    </tr>\n",
       "    <tr>\n",
       "      <th>68202</th>\n",
       "      <td>2017-12-25 14:55:00</td>\n",
       "      <td>400</td>\n",
       "      <td>SCEL</td>\n",
       "      <td>SPJC</td>\n",
       "      <td>JAT</td>\n",
       "      <td>2017-12-25 15:11:00</td>\n",
       "      <td>400.0</td>\n",
       "      <td>SCEL</td>\n",
       "      <td>SPJC</td>\n",
       "      <td>JAT</td>\n",
       "      <td>25</td>\n",
       "      <td>12</td>\n",
       "      <td>2017</td>\n",
       "      <td>Lunes</td>\n",
       "      <td>I</td>\n",
       "      <td>JetSmart SPA</td>\n",
       "      <td>Santiago</td>\n",
       "      <td>Lima</td>\n",
       "      <td>2017-12-25</td>\n",
       "    </tr>\n",
       "    <tr>\n",
       "      <th>68203</th>\n",
       "      <td>2017-12-27 14:55:00</td>\n",
       "      <td>400</td>\n",
       "      <td>SCEL</td>\n",
       "      <td>SPJC</td>\n",
       "      <td>JAT</td>\n",
       "      <td>2017-12-27 15:35:00</td>\n",
       "      <td>400.0</td>\n",
       "      <td>SCEL</td>\n",
       "      <td>SPJC</td>\n",
       "      <td>JAT</td>\n",
       "      <td>27</td>\n",
       "      <td>12</td>\n",
       "      <td>2017</td>\n",
       "      <td>Miercoles</td>\n",
       "      <td>I</td>\n",
       "      <td>JetSmart SPA</td>\n",
       "      <td>Santiago</td>\n",
       "      <td>Lima</td>\n",
       "      <td>2017-12-27</td>\n",
       "    </tr>\n",
       "    <tr>\n",
       "      <th>68204</th>\n",
       "      <td>2017-12-29 14:55:00</td>\n",
       "      <td>400</td>\n",
       "      <td>SCEL</td>\n",
       "      <td>SPJC</td>\n",
       "      <td>JAT</td>\n",
       "      <td>2017-12-29 15:08:00</td>\n",
       "      <td>400.0</td>\n",
       "      <td>SCEL</td>\n",
       "      <td>SPJC</td>\n",
       "      <td>JAT</td>\n",
       "      <td>29</td>\n",
       "      <td>12</td>\n",
       "      <td>2017</td>\n",
       "      <td>Viernes</td>\n",
       "      <td>I</td>\n",
       "      <td>JetSmart SPA</td>\n",
       "      <td>Santiago</td>\n",
       "      <td>Lima</td>\n",
       "      <td>2017-12-29</td>\n",
       "    </tr>\n",
       "    <tr>\n",
       "      <th>68205</th>\n",
       "      <td>2017-12-31 14:55:00</td>\n",
       "      <td>400</td>\n",
       "      <td>SCEL</td>\n",
       "      <td>SPJC</td>\n",
       "      <td>JAT</td>\n",
       "      <td>2017-12-31 15:04:00</td>\n",
       "      <td>400.0</td>\n",
       "      <td>SCEL</td>\n",
       "      <td>SPJC</td>\n",
       "      <td>JAT</td>\n",
       "      <td>31</td>\n",
       "      <td>12</td>\n",
       "      <td>2017</td>\n",
       "      <td>Domingo</td>\n",
       "      <td>I</td>\n",
       "      <td>JetSmart SPA</td>\n",
       "      <td>Santiago</td>\n",
       "      <td>Lima</td>\n",
       "      <td>2017-12-31</td>\n",
       "    </tr>\n",
       "  </tbody>\n",
       "</table>\n",
       "</div>"
      ],
      "text/plain": [
       "                  Fecha-I Vlo-I Ori-I Des-I Emp-I             Fecha-O  Vlo-O  \\\n",
       "68201 2017-12-22 14:55:00   400  SCEL  SPJC   JAT 2017-12-22 15:41:00  400.0   \n",
       "68202 2017-12-25 14:55:00   400  SCEL  SPJC   JAT 2017-12-25 15:11:00  400.0   \n",
       "68203 2017-12-27 14:55:00   400  SCEL  SPJC   JAT 2017-12-27 15:35:00  400.0   \n",
       "68204 2017-12-29 14:55:00   400  SCEL  SPJC   JAT 2017-12-29 15:08:00  400.0   \n",
       "68205 2017-12-31 14:55:00   400  SCEL  SPJC   JAT 2017-12-31 15:04:00  400.0   \n",
       "\n",
       "      Ori-O Des-O Emp-O  DIA  MES   AÑO     DIANOM TIPOVUELO         OPERA  \\\n",
       "68201  SCEL  SPJC   JAT   22   12  2017    Viernes         I  JetSmart SPA   \n",
       "68202  SCEL  SPJC   JAT   25   12  2017      Lunes         I  JetSmart SPA   \n",
       "68203  SCEL  SPJC   JAT   27   12  2017  Miercoles         I  JetSmart SPA   \n",
       "68204  SCEL  SPJC   JAT   29   12  2017    Viernes         I  JetSmart SPA   \n",
       "68205  SCEL  SPJC   JAT   31   12  2017    Domingo         I  JetSmart SPA   \n",
       "\n",
       "       SIGLAORI SIGLADES       fecha  \n",
       "68201  Santiago     Lima  2017-12-22  \n",
       "68202  Santiago     Lima  2017-12-25  \n",
       "68203  Santiago     Lima  2017-12-27  \n",
       "68204  Santiago     Lima  2017-12-29  \n",
       "68205  Santiago     Lima  2017-12-31  "
      ]
     },
     "execution_count": 99,
     "metadata": {},
     "output_type": "execute_result"
    }
   ],
   "source": [
    "df.tail()"
   ]
  },
  {
   "cell_type": "markdown",
   "id": "d6715026-de67-4979-b286-a872c41af314",
   "metadata": {},
   "source": [
    "### EDA\n",
    "\n",
    "#### Variables de Fecha"
   ]
  },
  {
   "cell_type": "code",
   "execution_count": 100,
   "id": "e5511f65-e62c-455a-8761-41738ca3cc61",
   "metadata": {
    "tags": []
   },
   "outputs": [
    {
     "data": {
      "image/png": "[encoded data removed]",
      "text/plain": [
       "<Figure size 1000x400 with 1 Axes>"
      ]
     },
     "metadata": {},
     "output_type": "display_data"
    }
   ],
   "source": [
    "df.groupby(['AÑO','MES']).count()['Fecha-I'].plot(kind='bar', figsize=(10,4), legend=False, rot=45)\n",
    "plt.title('Cantidad de Registros por Mes')\n",
    "plt.ylabel('Cantidad de Registros')\n",
    "plt.show()"
   ]
  },
  {
   "cell_type": "markdown",
   "id": "89f1d1de-ae2b-44ef-914f-d444cc47382b",
   "metadata": {},
   "source": [
    "### Feature Engineering"
   ]
  },
  {
   "cell_type": "code",
   "execution_count": 101,
   "id": "6a46f57c-218c-46d6-a10d-85c4a518f3c6",
   "metadata": {
    "tags": []
   },
   "outputs": [],
   "source": [
    "# Agregar Variable Fecha\n",
    "df['fecha'] = df['Fecha-I'].dt.date"
   ]
  },
  {
   "cell_type": "code",
   "execution_count": 190,
   "id": "3eeb6f2e-bbb8-423f-ab27-85e757730499",
   "metadata": {
    "tags": []
   },
   "outputs": [],
   "source": [
    "def temporada_alta(fecha_i):\n",
    "    month = fecha_i.month\n",
    "    day = fecha_i.day\n",
    "    \n",
    "    # Temporada Alta 1\n",
    "    if (month==12 and day>=15) or (month<3) or (month==3 and day<=3):\n",
    "        return 1\n",
    "    \n",
    "    # Temporada Alta 2\n",
    "    elif month==7 and (15<=day<=31):\n",
    "        return 2\n",
    "    \n",
    "    # Temporada Alta 3\n",
    "    elif month==9 and (11<=day<=30):\n",
    "        return 3\n",
    "    \n",
    "    else:\n",
    "        return 0\n",
    "        \n",
    "df['temporada_alta'] = df['Fecha-I'].apply(temporada_alta)"
   ]
  },
  {
   "cell_type": "code",
   "execution_count": 253,
   "id": "a7c70c6b-43d6-4513-952f-1968342238d7",
   "metadata": {
    "tags": []
   },
   "outputs": [],
   "source": [
    "df['dif_min'] = (df['Fecha-O'] - df['Fecha-I']).apply(lambda x: x.total_seconds() / 60)"
   ]
  },
  {
   "cell_type": "code",
   "execution_count": 255,
   "id": "179a4bc7-d128-4786-ba21-c3b17b661d01",
   "metadata": {
    "tags": []
   },
   "outputs": [
    {
     "data": {
      "text/html": [
       "<div>\n",
       "<style scoped>\n",
       "    .dataframe tbody tr th:only-of-type {\n",
       "        vertical-align: middle;\n",
       "    }\n",
       "\n",
       "    .dataframe tbody tr th {\n",
       "        vertical-align: top;\n",
       "    }\n",
       "\n",
       "    .dataframe thead th {\n",
       "        text-align: right;\n",
       "    }\n",
       "</style>\n",
       "<table border=\"1\" class=\"dataframe\">\n",
       "  <thead>\n",
       "    <tr style=\"text-align: right;\">\n",
       "      <th></th>\n",
       "      <th>Fecha-I</th>\n",
       "      <th>Vlo-I</th>\n",
       "      <th>Ori-I</th>\n",
       "      <th>Des-I</th>\n",
       "      <th>Emp-I</th>\n",
       "      <th>Fecha-O</th>\n",
       "      <th>Vlo-O</th>\n",
       "      <th>Ori-O</th>\n",
       "      <th>Des-O</th>\n",
       "      <th>Emp-O</th>\n",
       "      <th>...</th>\n",
       "      <th>OPERA</th>\n",
       "      <th>SIGLAORI</th>\n",
       "      <th>SIGLADES</th>\n",
       "      <th>fecha</th>\n",
       "      <th>dif_min</th>\n",
       "      <th>temporada_alta</th>\n",
       "      <th>atraso_15</th>\n",
       "      <th>periodo_dia</th>\n",
       "      <th>vuelos_programados</th>\n",
       "      <th>vuelos_programados_aerolinea</th>\n",
       "    </tr>\n",
       "  </thead>\n",
       "  <tbody>\n",
       "    <tr>\n",
       "      <th>0</th>\n",
       "      <td>2017-01-01 23:30:00</td>\n",
       "      <td>226</td>\n",
       "      <td>SCEL</td>\n",
       "      <td>KMIA</td>\n",
       "      <td>AAL</td>\n",
       "      <td>2017-01-01 23:33:00</td>\n",
       "      <td>226</td>\n",
       "      <td>SCEL</td>\n",
       "      <td>KMIA</td>\n",
       "      <td>AAL</td>\n",
       "      <td>...</td>\n",
       "      <td>American Airlines</td>\n",
       "      <td>Santiago</td>\n",
       "      <td>Miami</td>\n",
       "      <td>2017-01-01</td>\n",
       "      <td>3.0</td>\n",
       "      <td>1</td>\n",
       "      <td>0</td>\n",
       "      <td>noche</td>\n",
       "      <td>170</td>\n",
       "      <td>3</td>\n",
       "    </tr>\n",
       "    <tr>\n",
       "      <th>1</th>\n",
       "      <td>2017-01-02 23:30:00</td>\n",
       "      <td>226</td>\n",
       "      <td>SCEL</td>\n",
       "      <td>KMIA</td>\n",
       "      <td>AAL</td>\n",
       "      <td>2017-01-02 23:39:00</td>\n",
       "      <td>226</td>\n",
       "      <td>SCEL</td>\n",
       "      <td>KMIA</td>\n",
       "      <td>AAL</td>\n",
       "      <td>...</td>\n",
       "      <td>American Airlines</td>\n",
       "      <td>Santiago</td>\n",
       "      <td>Miami</td>\n",
       "      <td>2017-01-02</td>\n",
       "      <td>9.0</td>\n",
       "      <td>1</td>\n",
       "      <td>0</td>\n",
       "      <td>noche</td>\n",
       "      <td>198</td>\n",
       "      <td>3</td>\n",
       "    </tr>\n",
       "    <tr>\n",
       "      <th>2</th>\n",
       "      <td>2017-01-03 23:30:00</td>\n",
       "      <td>226</td>\n",
       "      <td>SCEL</td>\n",
       "      <td>KMIA</td>\n",
       "      <td>AAL</td>\n",
       "      <td>2017-01-03 23:39:00</td>\n",
       "      <td>226</td>\n",
       "      <td>SCEL</td>\n",
       "      <td>KMIA</td>\n",
       "      <td>AAL</td>\n",
       "      <td>...</td>\n",
       "      <td>American Airlines</td>\n",
       "      <td>Santiago</td>\n",
       "      <td>Miami</td>\n",
       "      <td>2017-01-03</td>\n",
       "      <td>9.0</td>\n",
       "      <td>1</td>\n",
       "      <td>0</td>\n",
       "      <td>noche</td>\n",
       "      <td>195</td>\n",
       "      <td>3</td>\n",
       "    </tr>\n",
       "    <tr>\n",
       "      <th>3</th>\n",
       "      <td>2017-01-04 23:30:00</td>\n",
       "      <td>226</td>\n",
       "      <td>SCEL</td>\n",
       "      <td>KMIA</td>\n",
       "      <td>AAL</td>\n",
       "      <td>2017-01-04 23:33:00</td>\n",
       "      <td>226</td>\n",
       "      <td>SCEL</td>\n",
       "      <td>KMIA</td>\n",
       "      <td>AAL</td>\n",
       "      <td>...</td>\n",
       "      <td>American Airlines</td>\n",
       "      <td>Santiago</td>\n",
       "      <td>Miami</td>\n",
       "      <td>2017-01-04</td>\n",
       "      <td>3.0</td>\n",
       "      <td>1</td>\n",
       "      <td>0</td>\n",
       "      <td>noche</td>\n",
       "      <td>193</td>\n",
       "      <td>3</td>\n",
       "    </tr>\n",
       "    <tr>\n",
       "      <th>4</th>\n",
       "      <td>2017-01-05 23:30:00</td>\n",
       "      <td>226</td>\n",
       "      <td>SCEL</td>\n",
       "      <td>KMIA</td>\n",
       "      <td>AAL</td>\n",
       "      <td>2017-01-05 23:28:00</td>\n",
       "      <td>226</td>\n",
       "      <td>SCEL</td>\n",
       "      <td>KMIA</td>\n",
       "      <td>AAL</td>\n",
       "      <td>...</td>\n",
       "      <td>American Airlines</td>\n",
       "      <td>Santiago</td>\n",
       "      <td>Miami</td>\n",
       "      <td>2017-01-05</td>\n",
       "      <td>-2.0</td>\n",
       "      <td>1</td>\n",
       "      <td>0</td>\n",
       "      <td>noche</td>\n",
       "      <td>196</td>\n",
       "      <td>3</td>\n",
       "    </tr>\n",
       "  </tbody>\n",
       "</table>\n",
       "<p>5 rows × 25 columns</p>\n",
       "</div>"
      ],
      "text/plain": [
       "              Fecha-I Vlo-I Ori-I Des-I Emp-I             Fecha-O Vlo-O Ori-O  \\\n",
       "0 2017-01-01 23:30:00   226  SCEL  KMIA   AAL 2017-01-01 23:33:00   226  SCEL   \n",
       "1 2017-01-02 23:30:00   226  SCEL  KMIA   AAL 2017-01-02 23:39:00   226  SCEL   \n",
       "2 2017-01-03 23:30:00   226  SCEL  KMIA   AAL 2017-01-03 23:39:00   226  SCEL   \n",
       "3 2017-01-04 23:30:00   226  SCEL  KMIA   AAL 2017-01-04 23:33:00   226  SCEL   \n",
       "4 2017-01-05 23:30:00   226  SCEL  KMIA   AAL 2017-01-05 23:28:00   226  SCEL   \n",
       "\n",
       "  Des-O Emp-O  ...              OPERA  SIGLAORI  SIGLADES       fecha dif_min  \\\n",
       "0  KMIA   AAL  ...  American Airlines  Santiago     Miami  2017-01-01     3.0   \n",
       "1  KMIA   AAL  ...  American Airlines  Santiago     Miami  2017-01-02     9.0   \n",
       "2  KMIA   AAL  ...  American Airlines  Santiago     Miami  2017-01-03     9.0   \n",
       "3  KMIA   AAL  ...  American Airlines  Santiago     Miami  2017-01-04     3.0   \n",
       "4  KMIA   AAL  ...  American Airlines  Santiago     Miami  2017-01-05    -2.0   \n",
       "\n",
       "  temporada_alta atraso_15 periodo_dia vuelos_programados  \\\n",
       "0              1         0       noche                170   \n",
       "1              1         0       noche                198   \n",
       "2              1         0       noche                195   \n",
       "3              1         0       noche                193   \n",
       "4              1         0       noche                196   \n",
       "\n",
       "   vuelos_programados_aerolinea  \n",
       "0                             3  \n",
       "1                             3  \n",
       "2                             3  \n",
       "3                             3  \n",
       "4                             3  \n",
       "\n",
       "[5 rows x 25 columns]"
      ]
     },
     "execution_count": 255,
     "metadata": {},
     "output_type": "execute_result"
    }
   ],
   "source": [
    "df.head()"
   ]
  },
  {
   "cell_type": "code",
   "execution_count": 191,
   "id": "850e898b-a5ae-4eb4-a3c2-5f54a19e0b9c",
   "metadata": {
    "tags": []
   },
   "outputs": [],
   "source": [
    "df['atraso_15'] = df['dif_min'].apply(lambda x: 1 if x>15 else 0)"
   ]
  },
  {
   "cell_type": "code",
   "execution_count": 192,
   "id": "28c09623-1189-40c4-92d7-c3cfcb6ef903",
   "metadata": {
    "tags": []
   },
   "outputs": [],
   "source": [
    "def periodo_dia(fecha_i):\n",
    "    flight_time = fecha_i.hour\n",
    "    \n",
    "    if 5 <= flight_time < 12:\n",
    "        return 'mañana'\n",
    "    elif 12 <= flight_time < 19:\n",
    "        return 'tarde'\n",
    "    else:\n",
    "        return 'noche'\n",
    "    \n",
    "df['periodo_dia'] = df['Fecha-I'].apply(periodo_dia)"
   ]
  },
  {
   "cell_type": "code",
   "execution_count": 193,
   "id": "475736bb-d658-4c26-8fb7-e1eead440291",
   "metadata": {
    "tags": []
   },
   "outputs": [],
   "source": [
    "df[['temporada_alta', 'dif_min', 'atraso_15', 'periodo_dia']].to_csv('../data/output/synthetic_features.csv')"
   ]
  },
  {
   "cell_type": "markdown",
   "id": "37ea85e9-9d78-4cde-ab93-5a960fac1c21",
   "metadata": {},
   "source": [
    "### EDA\n",
    "\n",
    "#### Variables de Fecha"
   ]
  },
  {
   "cell_type": "code",
   "execution_count": 194,
   "id": "3dca4479-3056-48c9-9bd2-3089b4818e7d",
   "metadata": {
    "tags": []
   },
   "outputs": [
    {
     "data": {
      "image/png": "[encoded data removed]",
      "text/plain": [
       "<Figure size 700x400 with 1 Axes>"
      ]
     },
     "metadata": {},
     "output_type": "display_data"
    }
   ],
   "source": [
    "flights_number = df.groupby(['fecha', 'temporada_alta']).count()['Fecha-I'].reset_index()\n",
    "flights_number.rename(columns={'Fecha-I':'vuelos_programados'}, inplace=True)\n",
    "\n",
    "\n",
    "plt.figure(figsize=(7,4))\n",
    "sns.scatterplot(data=flights_number, x='fecha', y='vuelos_programados', hue='temporada_alta')\n",
    "plt.title('Cantidad de Registros por Fecha')\n",
    "plt.ylabel('Cantidad de Registros')\n",
    "plt.ylim(0)\n",
    "plt.show()"
   ]
  },
  {
   "cell_type": "code",
   "execution_count": 249,
   "id": "9caa46de-d1fe-4606-aea0-768e9e038716",
   "metadata": {
    "tags": []
   },
   "outputs": [
    {
     "data": {
      "text/plain": [
       "Text(0, 0.5, 'Cantidad de Vuelos')"
      ]
     },
     "execution_count": 249,
     "metadata": {},
     "output_type": "execute_result"
    },
    {
     "data": {
      "image/png": "[encoded data removed]",
      "text/plain": [
       "<Figure size 640x480 with 1 Axes>"
      ]
     },
     "metadata": {},
     "output_type": "display_data"
    }
   ],
   "source": [
    "flights_number.groupby('temporada_alta')[['vuelos_programados']].boxplot(subplots=False, rot=45)\n",
    "plt.title('Cantidad de Vuelos por tipo de Temporada')\n",
    "plt.ylabel('Cantidad de Vuelos')"
   ]
  },
  {
   "cell_type": "markdown",
   "id": "90edb23d-9dec-48ea-9ede-45356ff081ef",
   "metadata": {},
   "source": [
    "El flag `temporada_alta`no siempre representa un comportamiento más alto de lo normal. Esta variable podría ser de interés si es que representara efectivamente momentos de alta demanda (vuelos). Una buena opción, para no perder la información de la \"demanda\", sería crear una variable que permita modelar este fenómeno, para ello se propone la variable cuantitativa discreta `vuelos_programados` que asocia a cada vuelo con el número de vuelos programados para la fecha `Fecha-I`."
   ]
  },
  {
   "cell_type": "code",
   "execution_count": 238,
   "id": "9627ef38-5384-4d60-8b63-0f63ccd1e85a",
   "metadata": {
    "tags": []
   },
   "outputs": [
    {
     "name": "stdout",
     "output_type": "stream",
     "text": [
      "[Shapiro-Wilk] Test de Normalidad Cantidad de Vuelos Temporada 0 -> (stat: 0.979083, pvalue: 0.000990)\n",
      "[Shapiro-Wilk] Test de Normalidad Cantidad de Vuelos Temporada 1 -> (stat: 0.975746, pvalue: 0.137096)\n",
      "[Shapiro-Wilk] Test de Normalidad Cantidad de Vuelos Temporada 2 -> (stat: 0.917251, pvalue: 0.132676)\n",
      "[Shapiro-Wilk] Test de Normalidad Cantidad de Vuelos Temporada 3 -> (stat: 0.928816, pvalue: 0.146518)\n"
     ]
    }
   ],
   "source": [
    "for temporada in [0,1,2,3]:\n",
    "    vuelos = flights_number.query(f'temporada_alta == {temporada}')['vuelos_programados']\n",
    "    \n",
    "    stat, pvalue = shapiro(vuelos)\n",
    "    \n",
    "    print(f'[Shapiro-Wilk] Test de Normalidad Cantidad de Vuelos Temporada {temporada} -> (stat: {stat:f}, pvalue: {pvalue:f})')\n",
    "    "
   ]
  },
  {
   "cell_type": "code",
   "execution_count": 247,
   "id": "dd310ddd-2370-48f1-b137-68b263ea97e6",
   "metadata": {
    "tags": []
   },
   "outputs": [
    {
     "name": "stdout",
     "output_type": "stream",
     "text": [
      "ANOVA Test: (16.30299666733017, 5.867972367085792e-10)\n",
      "Kruskal-Wallis Test: (43.46872493438663, 1.95695949750133e-09)\n"
     ]
    }
   ],
   "source": [
    "vuelos_temporada = []\n",
    "for temporada in [0,1,2,3]:\n",
    "    vuelos = flights_number.query(f'temporada_alta == {temporada}')['vuelos_programados']\n",
    "    vuelos_temporada.append(np.array(vuelos))\n",
    "    \n",
    "anova_stat, anova_pvalue = f_oneway(vuelos_temporada[0], vuelos_temporada[1], vuelos_temporada[2], vuelos_temporada[3])\n",
    "kruskal_stat, kruskal_pvalue = kruskal(vuelos_temporada[0], vuelos_temporada[1], vuelos_temporada[2], vuelos_temporada[3])\n",
    "\n",
    "print(f'ANOVA Test: {anova_stat, anova_pvalue}')\n",
    "print(f'Kruskal-Wallis Test: {kruskal_stat, kruskal_pvalue}')"
   ]
  },
  {
   "cell_type": "code",
   "execution_count": 248,
   "id": "08f3951f-471d-4329-a500-cf3f02f3ec2b",
   "metadata": {
    "tags": []
   },
   "outputs": [
    {
     "name": "stdout",
     "output_type": "stream",
     "text": [
      "Temporada 0 - Temporada 1 -> (stat: -6.738937, pvalue: 0.000000)\n",
      "Temporada 0 - Temporada 2 -> (stat: -2.173858, pvalue: 0.030604)\n",
      "Temporada 0 - Temporada 3 -> (stat: -1.132089, pvalue: 0.258613)\n",
      "Temporada 1 - Temporada 2 -> (stat: 1.582079, pvalue: 0.116991)\n",
      "Temporada 1 - Temporada 3 -> (stat: 3.302764, pvalue: 0.001341)\n",
      "Temporada 2 - Temporada 3 -> (stat: 1.051278, pvalue: 0.300336)\n"
     ]
    }
   ],
   "source": [
    "combinacion_temporadas = [x for x in combinations([0,1,2,3], 2)]\n",
    "\n",
    "for x in combinacion_temporadas:\n",
    "    \n",
    "    grupo_1 = x[0]\n",
    "    grupo_2 = x[1]\n",
    "    \n",
    "    vuelos_grupo_1 = flights_number.query(f'temporada_alta == {grupo_1}')['vuelos_programados']\n",
    "    vuelos_grupo_2 = flights_number.query(f'temporada_alta == {grupo_2}')['vuelos_programados']\n",
    "    \n",
    "    t_stat, t_pvalue = ttest_ind(vuelos_grupo_1, vuelos_grupo_2)\n",
    "    \n",
    "    print(f'Temporada {grupo_1} - Temporada {grupo_2} -> (stat: {t_stat:f}, pvalue: {t_pvalue:f})')"
   ]
  },
  {
   "cell_type": "code",
   "execution_count": 107,
   "id": "b1abea6c-4436-4d01-9b01-5beb7b7686b7",
   "metadata": {
    "tags": []
   },
   "outputs": [
    {
     "data": {
      "text/html": [
       "<div>\n",
       "<style scoped>\n",
       "    .dataframe tbody tr th:only-of-type {\n",
       "        vertical-align: middle;\n",
       "    }\n",
       "\n",
       "    .dataframe tbody tr th {\n",
       "        vertical-align: top;\n",
       "    }\n",
       "\n",
       "    .dataframe thead th {\n",
       "        text-align: right;\n",
       "    }\n",
       "</style>\n",
       "<table border=\"1\" class=\"dataframe\">\n",
       "  <thead>\n",
       "    <tr style=\"text-align: right;\">\n",
       "      <th></th>\n",
       "      <th>fecha</th>\n",
       "      <th>vuelos_programados</th>\n",
       "    </tr>\n",
       "  </thead>\n",
       "  <tbody>\n",
       "    <tr>\n",
       "      <th>0</th>\n",
       "      <td>2017-01-01</td>\n",
       "      <td>170</td>\n",
       "    </tr>\n",
       "    <tr>\n",
       "      <th>1</th>\n",
       "      <td>2017-01-02</td>\n",
       "      <td>198</td>\n",
       "    </tr>\n",
       "    <tr>\n",
       "      <th>2</th>\n",
       "      <td>2017-01-03</td>\n",
       "      <td>195</td>\n",
       "    </tr>\n",
       "    <tr>\n",
       "      <th>3</th>\n",
       "      <td>2017-01-04</td>\n",
       "      <td>193</td>\n",
       "    </tr>\n",
       "    <tr>\n",
       "      <th>4</th>\n",
       "      <td>2017-01-05</td>\n",
       "      <td>196</td>\n",
       "    </tr>\n",
       "  </tbody>\n",
       "</table>\n",
       "</div>"
      ],
      "text/plain": [
       "        fecha  vuelos_programados\n",
       "0  2017-01-01                 170\n",
       "1  2017-01-02                 198\n",
       "2  2017-01-03                 195\n",
       "3  2017-01-04                 193\n",
       "4  2017-01-05                 196"
      ]
     },
     "execution_count": 107,
     "metadata": {},
     "output_type": "execute_result"
    }
   ],
   "source": [
    "vuelos_programados = df.groupby('fecha').count()['Fecha-I'].reset_index()\n",
    "vuelos_programados.rename(columns={'Fecha-I':'vuelos_programados'}, inplace=True)\n",
    "vuelos_programados.head()"
   ]
  },
  {
   "cell_type": "code",
   "execution_count": 108,
   "id": "00a3c11b-fded-4e15-8ea3-37f5e78fcb39",
   "metadata": {
    "tags": []
   },
   "outputs": [
    {
     "data": {
      "text/html": [
       "<div>\n",
       "<style scoped>\n",
       "    .dataframe tbody tr th:only-of-type {\n",
       "        vertical-align: middle;\n",
       "    }\n",
       "\n",
       "    .dataframe tbody tr th {\n",
       "        vertical-align: top;\n",
       "    }\n",
       "\n",
       "    .dataframe thead th {\n",
       "        text-align: right;\n",
       "    }\n",
       "</style>\n",
       "<table border=\"1\" class=\"dataframe\">\n",
       "  <thead>\n",
       "    <tr style=\"text-align: right;\">\n",
       "      <th></th>\n",
       "      <th>fecha</th>\n",
       "      <th>OPERA</th>\n",
       "      <th>vuelos_programados_aerolinea</th>\n",
       "    </tr>\n",
       "  </thead>\n",
       "  <tbody>\n",
       "    <tr>\n",
       "      <th>0</th>\n",
       "      <td>2017-01-01</td>\n",
       "      <td>Aerolineas Argentinas</td>\n",
       "      <td>4</td>\n",
       "    </tr>\n",
       "    <tr>\n",
       "      <th>1</th>\n",
       "      <td>2017-01-01</td>\n",
       "      <td>Aeromexico</td>\n",
       "      <td>1</td>\n",
       "    </tr>\n",
       "    <tr>\n",
       "      <th>2</th>\n",
       "      <td>2017-01-01</td>\n",
       "      <td>Air Canada</td>\n",
       "      <td>2</td>\n",
       "    </tr>\n",
       "    <tr>\n",
       "      <th>3</th>\n",
       "      <td>2017-01-01</td>\n",
       "      <td>Air France</td>\n",
       "      <td>1</td>\n",
       "    </tr>\n",
       "    <tr>\n",
       "      <th>4</th>\n",
       "      <td>2017-01-01</td>\n",
       "      <td>Alitalia</td>\n",
       "      <td>1</td>\n",
       "    </tr>\n",
       "  </tbody>\n",
       "</table>\n",
       "</div>"
      ],
      "text/plain": [
       "        fecha                  OPERA  vuelos_programados_aerolinea\n",
       "0  2017-01-01  Aerolineas Argentinas                             4\n",
       "1  2017-01-01             Aeromexico                             1\n",
       "2  2017-01-01             Air Canada                             2\n",
       "3  2017-01-01             Air France                             1\n",
       "4  2017-01-01               Alitalia                             1"
      ]
     },
     "execution_count": 108,
     "metadata": {},
     "output_type": "execute_result"
    }
   ],
   "source": [
    "vuelos_programados_aerolinea = df.groupby(['fecha', 'OPERA']).count()['Fecha-I'].reset_index()\n",
    "vuelos_programados_aerolinea.rename(columns={'Fecha-I':'vuelos_programados_aerolinea'}, inplace=True)\n",
    "vuelos_programados_aerolinea.head()"
   ]
  },
  {
   "cell_type": "code",
   "execution_count": 109,
   "id": "8564ace4-f6a5-47d2-b08d-b50172c9e17c",
   "metadata": {
    "tags": []
   },
   "outputs": [
    {
     "data": {
      "text/html": [
       "<div>\n",
       "<style scoped>\n",
       "    .dataframe tbody tr th:only-of-type {\n",
       "        vertical-align: middle;\n",
       "    }\n",
       "\n",
       "    .dataframe tbody tr th {\n",
       "        vertical-align: top;\n",
       "    }\n",
       "\n",
       "    .dataframe thead th {\n",
       "        text-align: right;\n",
       "    }\n",
       "</style>\n",
       "<table border=\"1\" class=\"dataframe\">\n",
       "  <thead>\n",
       "    <tr style=\"text-align: right;\">\n",
       "      <th></th>\n",
       "      <th>Fecha-I</th>\n",
       "      <th>OPERA</th>\n",
       "      <th>SIGLAORI</th>\n",
       "      <th>SIGLADES</th>\n",
       "      <th>dif_min</th>\n",
       "      <th>vuelos_programados</th>\n",
       "      <th>vuelos_programados_aerolinea</th>\n",
       "    </tr>\n",
       "  </thead>\n",
       "  <tbody>\n",
       "    <tr>\n",
       "      <th>0</th>\n",
       "      <td>2017-01-01 23:30:00</td>\n",
       "      <td>American Airlines</td>\n",
       "      <td>Santiago</td>\n",
       "      <td>Miami</td>\n",
       "      <td>3.0</td>\n",
       "      <td>170</td>\n",
       "      <td>3</td>\n",
       "    </tr>\n",
       "    <tr>\n",
       "      <th>1</th>\n",
       "      <td>2017-01-02 23:30:00</td>\n",
       "      <td>American Airlines</td>\n",
       "      <td>Santiago</td>\n",
       "      <td>Miami</td>\n",
       "      <td>9.0</td>\n",
       "      <td>198</td>\n",
       "      <td>3</td>\n",
       "    </tr>\n",
       "    <tr>\n",
       "      <th>2</th>\n",
       "      <td>2017-01-03 23:30:00</td>\n",
       "      <td>American Airlines</td>\n",
       "      <td>Santiago</td>\n",
       "      <td>Miami</td>\n",
       "      <td>9.0</td>\n",
       "      <td>195</td>\n",
       "      <td>3</td>\n",
       "    </tr>\n",
       "    <tr>\n",
       "      <th>3</th>\n",
       "      <td>2017-01-04 23:30:00</td>\n",
       "      <td>American Airlines</td>\n",
       "      <td>Santiago</td>\n",
       "      <td>Miami</td>\n",
       "      <td>3.0</td>\n",
       "      <td>193</td>\n",
       "      <td>3</td>\n",
       "    </tr>\n",
       "    <tr>\n",
       "      <th>4</th>\n",
       "      <td>2017-01-05 23:30:00</td>\n",
       "      <td>American Airlines</td>\n",
       "      <td>Santiago</td>\n",
       "      <td>Miami</td>\n",
       "      <td>-2.0</td>\n",
       "      <td>196</td>\n",
       "      <td>3</td>\n",
       "    </tr>\n",
       "    <tr>\n",
       "      <th>...</th>\n",
       "      <td>...</td>\n",
       "      <td>...</td>\n",
       "      <td>...</td>\n",
       "      <td>...</td>\n",
       "      <td>...</td>\n",
       "      <td>...</td>\n",
       "      <td>...</td>\n",
       "    </tr>\n",
       "    <tr>\n",
       "      <th>68201</th>\n",
       "      <td>2017-12-22 14:55:00</td>\n",
       "      <td>JetSmart SPA</td>\n",
       "      <td>Santiago</td>\n",
       "      <td>Lima</td>\n",
       "      <td>46.0</td>\n",
       "      <td>230</td>\n",
       "      <td>13</td>\n",
       "    </tr>\n",
       "    <tr>\n",
       "      <th>68202</th>\n",
       "      <td>2017-12-25 14:55:00</td>\n",
       "      <td>JetSmart SPA</td>\n",
       "      <td>Santiago</td>\n",
       "      <td>Lima</td>\n",
       "      <td>16.0</td>\n",
       "      <td>201</td>\n",
       "      <td>14</td>\n",
       "    </tr>\n",
       "    <tr>\n",
       "      <th>68203</th>\n",
       "      <td>2017-12-27 14:55:00</td>\n",
       "      <td>JetSmart SPA</td>\n",
       "      <td>Santiago</td>\n",
       "      <td>Lima</td>\n",
       "      <td>40.0</td>\n",
       "      <td>217</td>\n",
       "      <td>14</td>\n",
       "    </tr>\n",
       "    <tr>\n",
       "      <th>68204</th>\n",
       "      <td>2017-12-29 14:55:00</td>\n",
       "      <td>JetSmart SPA</td>\n",
       "      <td>Santiago</td>\n",
       "      <td>Lima</td>\n",
       "      <td>13.0</td>\n",
       "      <td>220</td>\n",
       "      <td>13</td>\n",
       "    </tr>\n",
       "    <tr>\n",
       "      <th>68205</th>\n",
       "      <td>2017-12-31 14:55:00</td>\n",
       "      <td>JetSmart SPA</td>\n",
       "      <td>Santiago</td>\n",
       "      <td>Lima</td>\n",
       "      <td>9.0</td>\n",
       "      <td>179</td>\n",
       "      <td>13</td>\n",
       "    </tr>\n",
       "  </tbody>\n",
       "</table>\n",
       "<p>68206 rows × 7 columns</p>\n",
       "</div>"
      ],
      "text/plain": [
       "                  Fecha-I              OPERA  SIGLAORI SIGLADES  dif_min  \\\n",
       "0     2017-01-01 23:30:00  American Airlines  Santiago    Miami      3.0   \n",
       "1     2017-01-02 23:30:00  American Airlines  Santiago    Miami      9.0   \n",
       "2     2017-01-03 23:30:00  American Airlines  Santiago    Miami      9.0   \n",
       "3     2017-01-04 23:30:00  American Airlines  Santiago    Miami      3.0   \n",
       "4     2017-01-05 23:30:00  American Airlines  Santiago    Miami     -2.0   \n",
       "...                   ...                ...       ...      ...      ...   \n",
       "68201 2017-12-22 14:55:00       JetSmart SPA  Santiago     Lima     46.0   \n",
       "68202 2017-12-25 14:55:00       JetSmart SPA  Santiago     Lima     16.0   \n",
       "68203 2017-12-27 14:55:00       JetSmart SPA  Santiago     Lima     40.0   \n",
       "68204 2017-12-29 14:55:00       JetSmart SPA  Santiago     Lima     13.0   \n",
       "68205 2017-12-31 14:55:00       JetSmart SPA  Santiago     Lima      9.0   \n",
       "\n",
       "       vuelos_programados  vuelos_programados_aerolinea  \n",
       "0                     170                             3  \n",
       "1                     198                             3  \n",
       "2                     195                             3  \n",
       "3                     193                             3  \n",
       "4                     196                             3  \n",
       "...                   ...                           ...  \n",
       "68201                 230                            13  \n",
       "68202                 201                            14  \n",
       "68203                 217                            14  \n",
       "68204                 220                            13  \n",
       "68205                 179                            13  \n",
       "\n",
       "[68206 rows x 7 columns]"
      ]
     },
     "execution_count": 109,
     "metadata": {},
     "output_type": "execute_result"
    }
   ],
   "source": [
    "df = df.merge(vuelos_programados, on='fecha', how='left')\n",
    "df = df.merge(vuelos_programados_aerolinea, on=['fecha','OPERA'], how='left')\n",
    "df[['Fecha-I', 'OPERA', 'SIGLAORI', 'SIGLADES', 'dif_min', 'vuelos_programados', 'vuelos_programados_aerolinea']]"
   ]
  },
  {
   "cell_type": "code",
   "execution_count": 115,
   "id": "e94f3ebd-0f22-4d05-b57c-1f8ebe5f4e0c",
   "metadata": {
    "tags": []
   },
   "outputs": [
    {
     "data": {
      "text/html": [
       "<div>\n",
       "<style scoped>\n",
       "    .dataframe tbody tr th:only-of-type {\n",
       "        vertical-align: middle;\n",
       "    }\n",
       "\n",
       "    .dataframe tbody tr th {\n",
       "        vertical-align: top;\n",
       "    }\n",
       "\n",
       "    .dataframe thead th {\n",
       "        text-align: right;\n",
       "    }\n",
       "</style>\n",
       "<table border=\"1\" class=\"dataframe\">\n",
       "  <thead>\n",
       "    <tr style=\"text-align: right;\">\n",
       "      <th></th>\n",
       "      <th>vuelos_programados</th>\n",
       "      <th>vuelos_programados_aerolinea</th>\n",
       "    </tr>\n",
       "  </thead>\n",
       "  <tbody>\n",
       "    <tr>\n",
       "      <th>vuelos_programados</th>\n",
       "      <td>1.000000</td>\n",
       "      <td>0.170997</td>\n",
       "    </tr>\n",
       "    <tr>\n",
       "      <th>vuelos_programados_aerolinea</th>\n",
       "      <td>0.170997</td>\n",
       "      <td>1.000000</td>\n",
       "    </tr>\n",
       "  </tbody>\n",
       "</table>\n",
       "</div>"
      ],
      "text/plain": [
       "                              vuelos_programados  vuelos_programados_aerolinea\n",
       "vuelos_programados                      1.000000                      0.170997\n",
       "vuelos_programados_aerolinea            0.170997                      1.000000"
      ]
     },
     "execution_count": 115,
     "metadata": {},
     "output_type": "execute_result"
    }
   ],
   "source": [
    "df[['vuelos_programados', 'vuelos_programados_aerolinea']].corr()"
   ]
  },
  {
   "cell_type": "code",
   "execution_count": 111,
   "id": "5a1f9038-f679-43af-9e64-e18f0fdfe9d6",
   "metadata": {
    "tags": []
   },
   "outputs": [
    {
     "data": {
      "text/plain": [
       "<matplotlib.collections.PathCollection at 0x14d759a60>"
      ]
     },
     "execution_count": 111,
     "metadata": {},
     "output_type": "execute_result"
    },
    {
     "data": {
      "image/png": "[encoded data removed]",
      "text/plain": [
       "<Figure size 640x480 with 1 Axes>"
      ]
     },
     "metadata": {},
     "output_type": "display_data"
    }
   ],
   "source": [
    "plt.scatter(df.vuelos_programados_aerolinea, df.dif_min)"
   ]
  },
  {
   "cell_type": "code",
   "execution_count": 69,
   "id": "c77a137f-e8b1-4068-aefb-42dda81dba59",
   "metadata": {
    "tags": []
   },
   "outputs": [
    {
     "data": {
      "image/png": "[encoded data removed]",
      "text/plain": [
       "<Figure size 700x400 with 1 Axes>"
      ]
     },
     "metadata": {},
     "output_type": "display_data"
    }
   ],
   "source": [
    "df.groupby(['AÑO','MES']).count()['Fecha-I'].plot(kind='bar', figsize=(7,4), legend=False, rot=45)\n",
    "plt.title('Cantidad de Registros por Mes')\n",
    "plt.ylabel('Cantidad de Registros')\n",
    "plt.show()"
   ]
  },
  {
   "cell_type": "code",
   "execution_count": null,
   "id": "1207d129-679d-4a4b-a6b1-d7d6b0c47e5b",
   "metadata": {},
   "outputs": [],
   "source": []
  }
 ],
 "metadata": {
  "kernelspec": {
   "display_name": "Python 3 (ipykernel)",
   "language": "python",
   "name": "python3"
  },
  "language_info": {
   "codemirror_mode": {
    "name": "ipython",
    "version": 3
   },
   "file_extension": ".py",
   "mimetype": "text/x-python",
   "name": "python",
   "nbconvert_exporter": "python",
   "pygments_lexer": "ipython3",
   "version": "3.8.10"
  }
 },
 "nbformat": 4,
 "nbformat_minor": 5
}
